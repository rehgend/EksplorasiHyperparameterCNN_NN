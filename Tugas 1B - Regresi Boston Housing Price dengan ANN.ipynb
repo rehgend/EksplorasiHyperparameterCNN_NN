{
  "nbformat": 4,
  "nbformat_minor": 0,
  "metadata": {
    "colab": {
      "name": "Tugas 1B - Regresi Boston Housing Price dengan ANN.ipynb",
      "provenance": [],
      "authorship_tag": "ABX9TyP17dKdM9ngO85gfN/1iUfa",
      "include_colab_link": true
    },
    "kernelspec": {
      "name": "python3",
      "display_name": "Python 3"
    },
    "language_info": {
      "name": "python"
    }
  },
  "cells": [
    {
      "cell_type": "markdown",
      "metadata": {
        "id": "view-in-github",
        "colab_type": "text"
      },
      "source": [
        "<a href=\"https://colab.research.google.com/github/rehgend/EksplorasiHyperparameterCNN_NN/blob/main/Tugas%201B%20-%20Regresi%20Boston%20Housing%20Price%20dengan%20ANN.ipynb\" target=\"_parent\"><img src=\"https://colab.research.google.com/assets/colab-badge.svg\" alt=\"Open In Colab\"/></a>"
      ]
    },
    {
      "cell_type": "markdown",
      "source": [
        "# **<center>Tugas 1B - Regresi Boston Housing Price dengan ANN**\n",
        "### **<center>Rahman Indra Kesuma - 33221026**\n",
        "<br><br>"
      ],
      "metadata": {
        "id": "E2I4juaQUAxq"
      }
    },
    {
      "cell_type": "markdown",
      "source": [
        "## **Tahapan 1.**\n",
        "Memuat library yang dibutuhkan dalam pemrosesan data hingga proses pembelajaran pada Dataset *Boston Housing Price* dengan menggunakan algoritma Artificial Neural Network."
      ],
      "metadata": {
        "id": "Bzf5YlkO0XJr"
      }
    },
    {
      "cell_type": "code",
      "execution_count": 18,
      "metadata": {
        "id": "oK3Jrk06T4Jo"
      },
      "outputs": [],
      "source": [
        "# Library untuk kebutuhan pengaksesan dan pemrosesan awal data\n",
        "from tensorflow.keras.datasets import boston_housing\n",
        "from sklearn.model_selection import train_test_split\n",
        "\n",
        "# Library yang digunakan untuk membuat model dengan arsitektur ANN\n",
        "from keras.models import Sequential\n",
        "from keras.layers import Dense\n",
        "from keras.layers import Flatten\n",
        "\n",
        "# Library yang digunakan untuk optimizer yang digunakan\n",
        "from tensorflow.keras.optimizers import RMSprop\n",
        "\n",
        "# Library untuk melakukan plotting terhasil hasil yang diperoleh\n",
        "import matplotlib.pyplot as plt\n",
        "%matplotlib inline"
      ]
    },
    {
      "cell_type": "markdown",
      "source": [
        "## **Tahapan 2.**\n",
        "Memuat dataset *Boston Housing Price* dari Keras Built-In Small Dataset sekaligus melakukan slip kembali untuk membagi testing data dan validation data, dan ditambilkan ukuran data dari tiap-tiap kategori."
      ],
      "metadata": {
        "id": "Veg52NBA1Ffs"
      }
    },
    {
      "cell_type": "code",
      "source": [
        "(x_train, y_train), (x_remaining, y_remaining) = boston_housing.load_data(path=\"boston_housing.npz\", test_split=0.3, seed=113)\n",
        "x_valid, x_test, y_valid, y_test = train_test_split(x_remaining, y_remaining, test_size=0.5)\n",
        "\n",
        "print(\"Ukuran Training Data -> \", len(x_train), \"( Max_y : \",max(y_train),\" & Min_y : \",min(y_train),\")\")\n",
        "print(\"Ukuran Validation Data -> \", len(x_valid), \"( Max_y : \",max(y_valid),\" & Min_y : \",min(y_valid),\")\")\n",
        "print(\"Ukuran Testing Data -> \", len(x_test), \"( Max_y : \",max(y_test),\" & Min_y : \",min(y_test),\")\")\n",
        "print(\"TOTAL DATA = \", len(x_train)+len(x_valid)+len(x_test))"
      ],
      "metadata": {
        "colab": {
          "base_uri": "https://localhost:8080/"
        },
        "id": "JrbsSlP01d7u",
        "outputId": "6ea7a14b-2a76-47e0-a55f-f96dd5fb6e78"
      },
      "execution_count": 2,
      "outputs": [
        {
          "output_type": "stream",
          "name": "stdout",
          "text": [
            "Downloading data from https://storage.googleapis.com/tensorflow/tf-keras-datasets/boston_housing.npz\n",
            "57344/57026 [==============================] - 0s 0us/step\n",
            "65536/57026 [==================================] - 0s 0us/step\n",
            "Ukuran Training Data ->  354 ( Max_y :  50.0  & Min_y :  5.0 )\n",
            "Ukuran Validation Data ->  76 ( Max_y :  50.0  & Min_y :  5.6 )\n",
            "Ukuran Testing Data ->  76 ( Max_y :  50.0  & Min_y :  8.1 )\n",
            "TOTAL DATA =  506\n"
          ]
        }
      ]
    },
    {
      "cell_type": "markdown",
      "source": [
        "## **Tahapan 3**.\n",
        "Pendefinisian fungsi untuk membentuk arsitektur ANN dengan parameter yang berubah yaitu:\n",
        "1.   Jumlah Hidden Layer (*NumHiddenLayer*)\n",
        "2.   Jumlah Hidden Neuron Per-Layer (*NumHiddenNeuronPerLayer*)\n",
        "3.   Activation Function Per-Layer (*ActivationFuncPerLayer*)\n"
      ],
      "metadata": {
        "id": "4yXxJOUv466a"
      }
    },
    {
      "cell_type": "code",
      "source": [
        "def build_ann_model(NumHiddenLayer, NumHiddenNeuronPerLayer, ActivationFuncPerLayer):\n",
        "  ann_model = Sequential()\n",
        "  ann_model.add(Flatten())\n",
        "\n",
        "  # Pendefinisian pada Hidden Layer\n",
        "  for idx_layer in range(NumHiddenLayer):\n",
        "    ann_model.add(Dense(NumHiddenNeuronPerLayer[idx_layer], activation=ActivationFuncPerLayer[idx_layer]))\n",
        "    \n",
        "  #Pendefinisian pada Outlut Layer\n",
        "  ann_model.add(Dense(1, activation='relu'))\n",
        "  \n",
        "  return ann_model"
      ],
      "metadata": {
        "id": "5PRCUW115omm"
      },
      "execution_count": 10,
      "outputs": []
    },
    {
      "cell_type": "markdown",
      "source": [
        "## **Tahapan 4**.\n",
        "Percobaan dalam pembentukan regression model dengan Base Model."
      ],
      "metadata": {
        "id": "lw7NP1iKFswe"
      }
    },
    {
      "cell_type": "code",
      "source": [
        "#Nilai Dasar NumHiddenLayer = 1\n",
        "#Nilai Dasar NumHiddenNeuronPerLayer = [128, ]\n",
        "#Nilai Dasar ActivationFuncPerLayer = ['sigmoid', ]\n",
        "\n",
        "BATCH_SIZE = 50\n",
        "EPOCHS = 100\n",
        "Label_Epochs = []\n",
        "for i in range(EPOCHS):\n",
        "  Label_Epochs.append(i+1)\n",
        "\n",
        "NumHiddenLayer = 1\n",
        "NumHiddenNeuronPerLayer = [128]\n",
        "ActivationFuncPerLayer = ['sigmoid']\n",
        "\n",
        "opt = RMSprop(learning_rate=0.001)\n",
        "\n",
        "model_percobaan1 = build_ann_model(NumHiddenLayer, NumHiddenNeuronPerLayer, ActivationFuncPerLayer)\n",
        "model_percobaan1.build((None, 13))\n",
        "model_percobaan1.compile(optimizer=opt, loss='mean_absolute_error', metrics=['mean_absolute_error'])\n",
        "model_percobaan1.summary()\n",
        "History_Base_Training = model_percobaan1.fit(x_train, y_train, validation_data=(x_valid, y_valid), batch_size=BATCH_SIZE, epochs=EPOCHS)\n",
        "\n",
        "# Ploting Hasil Penggunaan dari Kullback-Leibler Divergence Function\n",
        "plt.rcParams['figure.figsize'] = (6.0, 5.0)\n",
        "plt.plot(Label_Epochs, History_Base_Training.history['mean_absolute_error'])\n",
        "plt.plot(Label_Epochs, History_Base_Training.history['val_mean_absolute_error'])\n",
        "plt.title('Base Model - Accuracy')\n",
        "plt.ylabel('Mean Absolute Error')\n",
        "plt.xlabel('Epoch')\n",
        "plt.legend(['Train', 'Val'])\n",
        "plt.savefig('BaseModel-Accuracy.jpg')\n",
        "plt.show()"
      ],
      "metadata": {
        "colab": {
          "base_uri": "https://localhost:8080/",
          "height": 1000
        },
        "id": "PtTj9wgCF6DI",
        "outputId": "428ca351-a359-4131-b4f9-cffe6b7b9c88"
      },
      "execution_count": 30,
      "outputs": [
        {
          "output_type": "stream",
          "name": "stdout",
          "text": [
            "Model: \"sequential_17\"\n",
            "_________________________________________________________________\n",
            " Layer (type)                Output Shape              Param #   \n",
            "=================================================================\n",
            " flatten_17 (Flatten)        (None, 13)                0         \n",
            "                                                                 \n",
            " dense_34 (Dense)            (None, 128)               1792      \n",
            "                                                                 \n",
            " dense_35 (Dense)            (None, 1)                 129       \n",
            "                                                                 \n",
            "=================================================================\n",
            "Total params: 1,921\n",
            "Trainable params: 1,921\n",
            "Non-trainable params: 0\n",
            "_________________________________________________________________\n",
            "Epoch 1/100\n",
            "8/8 [==============================] - 57s 8s/step - loss: 20.1234 - mean_absolute_error: 20.1234 - val_loss: 18.9507 - val_mean_absolute_error: 18.9507\n",
            "Epoch 2/100\n",
            "8/8 [==============================] - 0s 5ms/step - loss: 18.8540 - mean_absolute_error: 18.8540 - val_loss: 17.8941 - val_mean_absolute_error: 17.8941\n",
            "Epoch 3/100\n",
            "8/8 [==============================] - 0s 5ms/step - loss: 17.8391 - mean_absolute_error: 17.8391 - val_loss: 16.9371 - val_mean_absolute_error: 16.9371\n",
            "Epoch 4/100\n",
            "8/8 [==============================] - 0s 5ms/step - loss: 16.9360 - mean_absolute_error: 16.9360 - val_loss: 16.1450 - val_mean_absolute_error: 16.1450\n",
            "Epoch 5/100\n",
            "8/8 [==============================] - 0s 5ms/step - loss: 16.1524 - mean_absolute_error: 16.1524 - val_loss: 15.4149 - val_mean_absolute_error: 15.4149\n",
            "Epoch 6/100\n",
            "8/8 [==============================] - 0s 5ms/step - loss: 15.3748 - mean_absolute_error: 15.3748 - val_loss: 14.6866 - val_mean_absolute_error: 14.6866\n",
            "Epoch 7/100\n",
            "8/8 [==============================] - 0s 5ms/step - loss: 14.6000 - mean_absolute_error: 14.6000 - val_loss: 13.9814 - val_mean_absolute_error: 13.9814\n",
            "Epoch 8/100\n",
            "8/8 [==============================] - 0s 6ms/step - loss: 13.8801 - mean_absolute_error: 13.8801 - val_loss: 13.3403 - val_mean_absolute_error: 13.3403\n",
            "Epoch 9/100\n",
            "8/8 [==============================] - 0s 6ms/step - loss: 13.2052 - mean_absolute_error: 13.2052 - val_loss: 12.7250 - val_mean_absolute_error: 12.7250\n",
            "Epoch 10/100\n",
            "8/8 [==============================] - 0s 7ms/step - loss: 12.5601 - mean_absolute_error: 12.5601 - val_loss: 12.1341 - val_mean_absolute_error: 12.1341\n",
            "Epoch 11/100\n",
            "8/8 [==============================] - 0s 5ms/step - loss: 11.8663 - mean_absolute_error: 11.8663 - val_loss: 11.5528 - val_mean_absolute_error: 11.5528\n",
            "Epoch 12/100\n",
            "8/8 [==============================] - 0s 5ms/step - loss: 11.2515 - mean_absolute_error: 11.2515 - val_loss: 11.0440 - val_mean_absolute_error: 11.0440\n",
            "Epoch 13/100\n",
            "8/8 [==============================] - 0s 5ms/step - loss: 10.6824 - mean_absolute_error: 10.6824 - val_loss: 10.5569 - val_mean_absolute_error: 10.5569\n",
            "Epoch 14/100\n",
            "8/8 [==============================] - 0s 5ms/step - loss: 10.1661 - mean_absolute_error: 10.1661 - val_loss: 10.1084 - val_mean_absolute_error: 10.1084\n",
            "Epoch 15/100\n",
            "8/8 [==============================] - 0s 6ms/step - loss: 9.6838 - mean_absolute_error: 9.6838 - val_loss: 9.6538 - val_mean_absolute_error: 9.6538\n",
            "Epoch 16/100\n",
            "8/8 [==============================] - 0s 5ms/step - loss: 9.2147 - mean_absolute_error: 9.2147 - val_loss: 9.2531 - val_mean_absolute_error: 9.2531\n",
            "Epoch 17/100\n",
            "8/8 [==============================] - 0s 6ms/step - loss: 8.8083 - mean_absolute_error: 8.8083 - val_loss: 8.9215 - val_mean_absolute_error: 8.9215\n",
            "Epoch 18/100\n",
            "8/8 [==============================] - 0s 6ms/step - loss: 8.4499 - mean_absolute_error: 8.4499 - val_loss: 8.5609 - val_mean_absolute_error: 8.5609\n",
            "Epoch 19/100\n",
            "8/8 [==============================] - 0s 5ms/step - loss: 8.0860 - mean_absolute_error: 8.0860 - val_loss: 8.3128 - val_mean_absolute_error: 8.3128\n",
            "Epoch 20/100\n",
            "8/8 [==============================] - 0s 5ms/step - loss: 7.8282 - mean_absolute_error: 7.8282 - val_loss: 7.9746 - val_mean_absolute_error: 7.9746\n",
            "Epoch 21/100\n",
            "8/8 [==============================] - 0s 6ms/step - loss: 7.5009 - mean_absolute_error: 7.5009 - val_loss: 7.7198 - val_mean_absolute_error: 7.7198\n",
            "Epoch 22/100\n",
            "8/8 [==============================] - 0s 6ms/step - loss: 7.2484 - mean_absolute_error: 7.2484 - val_loss: 7.4395 - val_mean_absolute_error: 7.4395\n",
            "Epoch 23/100\n",
            "8/8 [==============================] - 0s 5ms/step - loss: 7.0090 - mean_absolute_error: 7.0090 - val_loss: 7.1485 - val_mean_absolute_error: 7.1485\n",
            "Epoch 24/100\n",
            "8/8 [==============================] - 0s 5ms/step - loss: 6.7602 - mean_absolute_error: 6.7602 - val_loss: 6.8452 - val_mean_absolute_error: 6.8452\n",
            "Epoch 25/100\n",
            "8/8 [==============================] - 0s 5ms/step - loss: 6.5440 - mean_absolute_error: 6.5440 - val_loss: 6.6574 - val_mean_absolute_error: 6.6574\n",
            "Epoch 26/100\n",
            "8/8 [==============================] - 0s 6ms/step - loss: 6.4040 - mean_absolute_error: 6.4040 - val_loss: 6.4748 - val_mean_absolute_error: 6.4748\n",
            "Epoch 27/100\n",
            "8/8 [==============================] - 0s 6ms/step - loss: 6.2681 - mean_absolute_error: 6.2681 - val_loss: 6.3414 - val_mean_absolute_error: 6.3414\n",
            "Epoch 28/100\n",
            "8/8 [==============================] - 0s 6ms/step - loss: 6.1901 - mean_absolute_error: 6.1901 - val_loss: 6.2142 - val_mean_absolute_error: 6.2142\n",
            "Epoch 29/100\n",
            "8/8 [==============================] - 0s 5ms/step - loss: 6.1095 - mean_absolute_error: 6.1095 - val_loss: 6.1380 - val_mean_absolute_error: 6.1380\n",
            "Epoch 30/100\n",
            "8/8 [==============================] - 0s 7ms/step - loss: 6.0705 - mean_absolute_error: 6.0705 - val_loss: 6.0029 - val_mean_absolute_error: 6.0029\n",
            "Epoch 31/100\n",
            "8/8 [==============================] - 0s 6ms/step - loss: 6.0286 - mean_absolute_error: 6.0286 - val_loss: 5.9663 - val_mean_absolute_error: 5.9663\n",
            "Epoch 32/100\n",
            "8/8 [==============================] - 0s 5ms/step - loss: 6.0083 - mean_absolute_error: 6.0083 - val_loss: 5.9527 - val_mean_absolute_error: 5.9527\n",
            "Epoch 33/100\n",
            "8/8 [==============================] - 0s 6ms/step - loss: 5.9705 - mean_absolute_error: 5.9705 - val_loss: 5.9529 - val_mean_absolute_error: 5.9529\n",
            "Epoch 34/100\n",
            "8/8 [==============================] - 0s 6ms/step - loss: 5.9331 - mean_absolute_error: 5.9331 - val_loss: 5.8496 - val_mean_absolute_error: 5.8496\n",
            "Epoch 35/100\n",
            "8/8 [==============================] - 0s 6ms/step - loss: 5.8990 - mean_absolute_error: 5.8990 - val_loss: 5.8651 - val_mean_absolute_error: 5.8651\n",
            "Epoch 36/100\n",
            "8/8 [==============================] - 0s 5ms/step - loss: 5.8431 - mean_absolute_error: 5.8431 - val_loss: 5.8390 - val_mean_absolute_error: 5.8390\n",
            "Epoch 37/100\n",
            "8/8 [==============================] - 0s 6ms/step - loss: 5.7854 - mean_absolute_error: 5.7854 - val_loss: 5.7164 - val_mean_absolute_error: 5.7164\n",
            "Epoch 38/100\n",
            "8/8 [==============================] - 0s 5ms/step - loss: 5.7457 - mean_absolute_error: 5.7457 - val_loss: 5.6740 - val_mean_absolute_error: 5.6740\n",
            "Epoch 39/100\n",
            "8/8 [==============================] - 0s 5ms/step - loss: 5.6986 - mean_absolute_error: 5.6986 - val_loss: 5.6746 - val_mean_absolute_error: 5.6746\n",
            "Epoch 40/100\n",
            "8/8 [==============================] - 0s 6ms/step - loss: 5.6707 - mean_absolute_error: 5.6707 - val_loss: 5.6108 - val_mean_absolute_error: 5.6108\n",
            "Epoch 41/100\n",
            "8/8 [==============================] - 0s 6ms/step - loss: 5.6417 - mean_absolute_error: 5.6417 - val_loss: 5.6245 - val_mean_absolute_error: 5.6245\n",
            "Epoch 42/100\n",
            "8/8 [==============================] - 0s 7ms/step - loss: 5.6281 - mean_absolute_error: 5.6281 - val_loss: 5.5990 - val_mean_absolute_error: 5.5990\n",
            "Epoch 43/100\n",
            "8/8 [==============================] - 0s 6ms/step - loss: 5.6080 - mean_absolute_error: 5.6080 - val_loss: 5.5701 - val_mean_absolute_error: 5.5701\n",
            "Epoch 44/100\n",
            "8/8 [==============================] - 0s 6ms/step - loss: 5.5963 - mean_absolute_error: 5.5963 - val_loss: 5.6412 - val_mean_absolute_error: 5.6412\n",
            "Epoch 45/100\n",
            "8/8 [==============================] - 0s 6ms/step - loss: 5.5801 - mean_absolute_error: 5.5801 - val_loss: 5.6247 - val_mean_absolute_error: 5.6247\n",
            "Epoch 46/100\n",
            "8/8 [==============================] - 0s 6ms/step - loss: 5.5607 - mean_absolute_error: 5.5607 - val_loss: 5.6008 - val_mean_absolute_error: 5.6008\n",
            "Epoch 47/100\n",
            "8/8 [==============================] - 0s 6ms/step - loss: 5.5481 - mean_absolute_error: 5.5481 - val_loss: 5.5811 - val_mean_absolute_error: 5.5811\n",
            "Epoch 48/100\n",
            "8/8 [==============================] - 0s 7ms/step - loss: 5.5345 - mean_absolute_error: 5.5345 - val_loss: 5.5205 - val_mean_absolute_error: 5.5205\n",
            "Epoch 49/100\n",
            "8/8 [==============================] - 0s 8ms/step - loss: 5.5202 - mean_absolute_error: 5.5202 - val_loss: 5.5058 - val_mean_absolute_error: 5.5058\n",
            "Epoch 50/100\n",
            "8/8 [==============================] - 0s 6ms/step - loss: 5.5059 - mean_absolute_error: 5.5059 - val_loss: 5.5674 - val_mean_absolute_error: 5.5674\n",
            "Epoch 51/100\n",
            "8/8 [==============================] - 0s 6ms/step - loss: 5.4992 - mean_absolute_error: 5.4992 - val_loss: 5.5092 - val_mean_absolute_error: 5.5092\n",
            "Epoch 52/100\n",
            "8/8 [==============================] - 0s 6ms/step - loss: 5.4841 - mean_absolute_error: 5.4841 - val_loss: 5.5001 - val_mean_absolute_error: 5.5001\n",
            "Epoch 53/100\n",
            "8/8 [==============================] - 0s 6ms/step - loss: 5.4839 - mean_absolute_error: 5.4839 - val_loss: 5.5016 - val_mean_absolute_error: 5.5016\n",
            "Epoch 54/100\n",
            "8/8 [==============================] - 0s 7ms/step - loss: 5.4695 - mean_absolute_error: 5.4695 - val_loss: 5.4599 - val_mean_absolute_error: 5.4599\n",
            "Epoch 55/100\n",
            "8/8 [==============================] - 0s 6ms/step - loss: 5.4485 - mean_absolute_error: 5.4485 - val_loss: 5.4184 - val_mean_absolute_error: 5.4184\n",
            "Epoch 56/100\n",
            "8/8 [==============================] - 0s 6ms/step - loss: 5.4394 - mean_absolute_error: 5.4394 - val_loss: 5.4734 - val_mean_absolute_error: 5.4734\n",
            "Epoch 57/100\n",
            "8/8 [==============================] - 0s 6ms/step - loss: 5.4039 - mean_absolute_error: 5.4039 - val_loss: 5.4700 - val_mean_absolute_error: 5.4700\n",
            "Epoch 58/100\n",
            "8/8 [==============================] - 0s 6ms/step - loss: 5.3962 - mean_absolute_error: 5.3962 - val_loss: 5.4767 - val_mean_absolute_error: 5.4767\n",
            "Epoch 59/100\n",
            "8/8 [==============================] - 0s 10ms/step - loss: 5.3749 - mean_absolute_error: 5.3749 - val_loss: 5.4609 - val_mean_absolute_error: 5.4609\n",
            "Epoch 60/100\n",
            "8/8 [==============================] - 0s 6ms/step - loss: 5.3610 - mean_absolute_error: 5.3610 - val_loss: 5.4164 - val_mean_absolute_error: 5.4164\n",
            "Epoch 61/100\n",
            "8/8 [==============================] - 0s 6ms/step - loss: 5.3467 - mean_absolute_error: 5.3467 - val_loss: 5.5087 - val_mean_absolute_error: 5.5087\n",
            "Epoch 62/100\n",
            "8/8 [==============================] - 0s 6ms/step - loss: 5.3443 - mean_absolute_error: 5.3443 - val_loss: 5.4103 - val_mean_absolute_error: 5.4103\n",
            "Epoch 63/100\n",
            "8/8 [==============================] - 0s 6ms/step - loss: 5.3335 - mean_absolute_error: 5.3335 - val_loss: 5.4012 - val_mean_absolute_error: 5.4012\n",
            "Epoch 64/100\n",
            "8/8 [==============================] - 0s 6ms/step - loss: 5.3107 - mean_absolute_error: 5.3107 - val_loss: 5.3874 - val_mean_absolute_error: 5.3874\n",
            "Epoch 65/100\n",
            "8/8 [==============================] - 0s 6ms/step - loss: 5.3113 - mean_absolute_error: 5.3113 - val_loss: 5.4343 - val_mean_absolute_error: 5.4343\n",
            "Epoch 66/100\n",
            "8/8 [==============================] - 0s 7ms/step - loss: 5.2894 - mean_absolute_error: 5.2894 - val_loss: 5.3075 - val_mean_absolute_error: 5.3075\n",
            "Epoch 67/100\n",
            "8/8 [==============================] - 0s 7ms/step - loss: 5.2749 - mean_absolute_error: 5.2749 - val_loss: 5.2713 - val_mean_absolute_error: 5.2713\n",
            "Epoch 68/100\n",
            "8/8 [==============================] - 0s 6ms/step - loss: 5.2714 - mean_absolute_error: 5.2714 - val_loss: 5.2521 - val_mean_absolute_error: 5.2521\n",
            "Epoch 69/100\n",
            "8/8 [==============================] - 0s 6ms/step - loss: 5.2679 - mean_absolute_error: 5.2679 - val_loss: 5.2946 - val_mean_absolute_error: 5.2946\n",
            "Epoch 70/100\n",
            "8/8 [==============================] - 0s 6ms/step - loss: 5.2480 - mean_absolute_error: 5.2480 - val_loss: 5.3203 - val_mean_absolute_error: 5.3203\n",
            "Epoch 71/100\n",
            "8/8 [==============================] - 0s 6ms/step - loss: 5.2393 - mean_absolute_error: 5.2393 - val_loss: 5.3726 - val_mean_absolute_error: 5.3726\n",
            "Epoch 72/100\n",
            "8/8 [==============================] - 0s 6ms/step - loss: 5.2406 - mean_absolute_error: 5.2406 - val_loss: 5.2437 - val_mean_absolute_error: 5.2437\n",
            "Epoch 73/100\n",
            "8/8 [==============================] - 0s 6ms/step - loss: 5.2251 - mean_absolute_error: 5.2251 - val_loss: 5.2283 - val_mean_absolute_error: 5.2283\n",
            "Epoch 74/100\n",
            "8/8 [==============================] - 0s 6ms/step - loss: 5.2096 - mean_absolute_error: 5.2096 - val_loss: 5.2687 - val_mean_absolute_error: 5.2687\n",
            "Epoch 75/100\n",
            "8/8 [==============================] - 0s 7ms/step - loss: 5.1975 - mean_absolute_error: 5.1975 - val_loss: 5.2741 - val_mean_absolute_error: 5.2741\n",
            "Epoch 76/100\n",
            "8/8 [==============================] - 0s 7ms/step - loss: 5.1927 - mean_absolute_error: 5.1927 - val_loss: 5.2392 - val_mean_absolute_error: 5.2392\n",
            "Epoch 77/100\n",
            "8/8 [==============================] - 0s 6ms/step - loss: 5.1932 - mean_absolute_error: 5.1932 - val_loss: 5.1928 - val_mean_absolute_error: 5.1928\n",
            "Epoch 78/100\n",
            "8/8 [==============================] - 0s 6ms/step - loss: 5.1778 - mean_absolute_error: 5.1778 - val_loss: 5.2967 - val_mean_absolute_error: 5.2967\n",
            "Epoch 79/100\n",
            "8/8 [==============================] - 0s 6ms/step - loss: 5.1744 - mean_absolute_error: 5.1744 - val_loss: 5.1746 - val_mean_absolute_error: 5.1746\n",
            "Epoch 80/100\n",
            "8/8 [==============================] - 0s 6ms/step - loss: 5.1730 - mean_absolute_error: 5.1730 - val_loss: 5.1503 - val_mean_absolute_error: 5.1503\n",
            "Epoch 81/100\n",
            "8/8 [==============================] - 0s 8ms/step - loss: 5.1713 - mean_absolute_error: 5.1713 - val_loss: 5.2248 - val_mean_absolute_error: 5.2248\n",
            "Epoch 82/100\n",
            "8/8 [==============================] - 0s 6ms/step - loss: 5.1531 - mean_absolute_error: 5.1531 - val_loss: 5.1784 - val_mean_absolute_error: 5.1784\n",
            "Epoch 83/100\n",
            "8/8 [==============================] - 0s 9ms/step - loss: 5.1784 - mean_absolute_error: 5.1784 - val_loss: 5.1357 - val_mean_absolute_error: 5.1357\n",
            "Epoch 84/100\n",
            "8/8 [==============================] - 0s 6ms/step - loss: 5.1333 - mean_absolute_error: 5.1333 - val_loss: 5.2952 - val_mean_absolute_error: 5.2952\n",
            "Epoch 85/100\n",
            "8/8 [==============================] - 0s 8ms/step - loss: 5.1380 - mean_absolute_error: 5.1380 - val_loss: 5.2667 - val_mean_absolute_error: 5.2667\n",
            "Epoch 86/100\n",
            "8/8 [==============================] - 0s 6ms/step - loss: 5.1258 - mean_absolute_error: 5.1258 - val_loss: 5.1937 - val_mean_absolute_error: 5.1937\n",
            "Epoch 87/100\n",
            "8/8 [==============================] - 0s 5ms/step - loss: 5.1280 - mean_absolute_error: 5.1280 - val_loss: 5.1174 - val_mean_absolute_error: 5.1174\n",
            "Epoch 88/100\n",
            "8/8 [==============================] - 0s 7ms/step - loss: 5.1351 - mean_absolute_error: 5.1351 - val_loss: 5.1625 - val_mean_absolute_error: 5.1625\n",
            "Epoch 89/100\n",
            "8/8 [==============================] - 0s 7ms/step - loss: 5.0984 - mean_absolute_error: 5.0984 - val_loss: 5.3069 - val_mean_absolute_error: 5.3069\n",
            "Epoch 90/100\n",
            "8/8 [==============================] - 0s 6ms/step - loss: 5.1273 - mean_absolute_error: 5.1273 - val_loss: 5.2294 - val_mean_absolute_error: 5.2294\n",
            "Epoch 91/100\n",
            "8/8 [==============================] - 0s 7ms/step - loss: 5.0970 - mean_absolute_error: 5.0970 - val_loss: 5.1185 - val_mean_absolute_error: 5.1185\n",
            "Epoch 92/100\n",
            "8/8 [==============================] - 0s 6ms/step - loss: 5.0860 - mean_absolute_error: 5.0860 - val_loss: 5.0972 - val_mean_absolute_error: 5.0972\n",
            "Epoch 93/100\n",
            "8/8 [==============================] - 0s 6ms/step - loss: 5.0710 - mean_absolute_error: 5.0710 - val_loss: 5.0534 - val_mean_absolute_error: 5.0534\n",
            "Epoch 94/100\n",
            "8/8 [==============================] - 0s 6ms/step - loss: 5.0865 - mean_absolute_error: 5.0865 - val_loss: 5.2376 - val_mean_absolute_error: 5.2376\n",
            "Epoch 95/100\n",
            "8/8 [==============================] - 0s 7ms/step - loss: 5.0675 - mean_absolute_error: 5.0675 - val_loss: 5.1794 - val_mean_absolute_error: 5.1794\n",
            "Epoch 96/100\n",
            "8/8 [==============================] - 0s 6ms/step - loss: 5.0497 - mean_absolute_error: 5.0497 - val_loss: 5.1023 - val_mean_absolute_error: 5.1023\n",
            "Epoch 97/100\n",
            "8/8 [==============================] - 0s 7ms/step - loss: 5.0325 - mean_absolute_error: 5.0325 - val_loss: 5.1701 - val_mean_absolute_error: 5.1701\n",
            "Epoch 98/100\n",
            "8/8 [==============================] - 0s 7ms/step - loss: 5.0424 - mean_absolute_error: 5.0424 - val_loss: 5.1562 - val_mean_absolute_error: 5.1562\n",
            "Epoch 99/100\n",
            "8/8 [==============================] - 0s 6ms/step - loss: 5.0333 - mean_absolute_error: 5.0333 - val_loss: 5.0674 - val_mean_absolute_error: 5.0674\n",
            "Epoch 100/100\n",
            "8/8 [==============================] - 0s 7ms/step - loss: 5.0327 - mean_absolute_error: 5.0327 - val_loss: 5.0409 - val_mean_absolute_error: 5.0409\n"
          ]
        },
        {
          "output_type": "display_data",
          "data": {
            "text/plain": [
              "<Figure size 432x360 with 1 Axes>"
            ],
            "image/png": "[encoded data removed]"
          },
          "metadata": {
            "needs_background": "light"
          }
        }
      ]
    }
  ]
}